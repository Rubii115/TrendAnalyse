{
 "cells": [
  {
   "cell_type": "code",
   "execution_count": 5,
   "metadata": {},
   "outputs": [],
   "source": [
    "#这里和readme代码一样，确定读过readme了吗，也可以去看demo\n",
    "\n",
    "%matplotlib qt5\n",
    "import classes\n",
    "import importlib\n",
    "\n",
    "importlib.reload(classes)\n",
    "\n",
    "from classes.trend import Trend\n",
    "from classes.kline_client import Kline_client\n",
    "from classes.timepoint import Timepoint\n",
    "from classes.plot_driver import Plot_driver\n",
    "from classes.analyse_area import Analyse_area"
   ]
  },
  {
   "cell_type": "code",
   "execution_count": 6,
   "metadata": {},
   "outputs": [],
   "source": [
    "kline_clt = Kline_client()"
   ]
  },
  {
   "cell_type": "code",
   "execution_count": 7,
   "metadata": {},
   "outputs": [],
   "source": [
    "#在这里创建一个工作区对象，里面包含很多趋势，并对趋势进行合并\n",
    "# del te\n",
    "te = Analyse_area(Timepoint(2022,3,5,12,31),Timepoint(2022,3,12,12,31),kline_clt)"
   ]
  },
  {
   "cell_type": "code",
   "execution_count": 8,
   "metadata": {},
   "outputs": [
    {
     "name": "stdout",
     "output_type": "stream",
     "text": [
      "2022-03-05 12:31\n",
      "2022-03-06 12:31\n",
      "2022-03-05 12:31 to 2022-03-05 12:40, 39206.01 to 39371.15\n",
      "2022-03-05 12:40 to 2022-03-05 13:36, 39371.15 to 38889.75\n",
      "2022-03-05 13:36 to 2022-03-06 00:59, 38889.75 to 39693.87\n",
      "2022-03-06 00:59 to 2022-03-06 11:06, 39693.87 to 38088.57\n",
      "2022-03-06 11:06 to 2022-03-06 12:23, 38088.57 to 38629.7\n",
      "2022-03-06 12:23 to 2022-03-06 12:25, 38629.7 to 38434.52\n",
      "2022-03-06 12:25 to 2022-03-06 12:31, 38434.52 to 38603.05\n"
     ]
    }
   ],
   "source": [
    "print(te.begin)\n",
    "print(te.end)\n",
    "for item in te.trendlist:\n",
    "    print(item)"
   ]
  },
  {
   "cell_type": "code",
   "execution_count": 8,
   "metadata": {},
   "outputs": [
    {
     "name": "stdout",
     "output_type": "stream",
     "text": [
      "                         open      high       low     close    volume\n",
      "date                                                                 \n",
      "2022-03-05 12:31:00  39245.89  39252.68  39206.01  39227.67  37.42102\n",
      "2022-03-05 12:32:00  39227.67  39252.70  39221.05  39229.78  37.71002\n",
      "2022-03-05 12:33:00  39229.78  39247.87  39228.36  39241.46  16.81311\n",
      "2022-03-05 12:34:00  39241.45  39246.63  39238.03  39238.60   8.06645\n",
      "2022-03-05 12:35:00  39238.59  39242.09  39209.83  39223.76  22.31542\n",
      "...                       ...       ...       ...       ...       ...\n",
      "2022-03-12 12:27:00  39155.25  39155.26  39137.81  39138.18   3.85092\n",
      "2022-03-12 12:28:00  39138.19  39147.00  39138.18  39138.76  13.42920\n",
      "2022-03-12 12:29:00  39138.77  39138.77  39120.59  39121.75  17.30408\n",
      "2022-03-12 12:30:00  39121.75  39140.77  39115.41  39115.42  13.49549\n",
      "2022-03-12 12:31:00  39115.42  39115.42  39102.64  39110.00   6.58395\n",
      "\n",
      "[10081 rows x 5 columns]\n"
     ]
    },
    {
     "name": "stderr",
     "output_type": "stream",
     "text": [
      "c:\\Users\\ASUS\\anaconda3\\Lib\\site-packages\\mplfinance\\_arg_validators.py:84: UserWarning: \n",
      "\n",
      " ================================================================= \n",
      "\n",
      "   WARNING: YOU ARE PLOTTING SO MUCH DATA THAT IT MAY NOT BE\n",
      "            POSSIBLE TO SEE DETAILS (Candles, Ohlc-Bars, Etc.)\n",
      "   For more information see:\n",
      "   - https://github.com/matplotlib/mplfinance/wiki/Plotting-Too-Much-Data\n",
      "   \n",
      "   TO SILENCE THIS WARNING, set `type='line'` in `mpf.plot()`\n",
      "   OR set kwarg `warn_too_much_data=N` where N is an integer \n",
      "   LARGER than the number of data points you want to plot.\n",
      "\n",
      " ================================================================ \n",
      "  warnings.warn('\\n\\n ================================================================= '+\n"
     ]
    }
   ],
   "source": [
    "#创建绘图助理，可以把工作区中的趋势画出来，layer控制从最大的趋势往细处精细的层数\n",
    "pds = Plot_driver(kline_clt)\n",
    "pds.draw(te,layer = 5)"
   ]
  },
  {
   "cell_type": "code",
   "execution_count": 9,
   "metadata": {},
   "outputs": [],
   "source": [
    "begin = Timepoint(2022,3,5,12,31)\n",
    "point = begin.get_after(1)\n",
    "pds = Plot_driver(kline_clt)\n",
    "te = Analyse_area(begin,point,kline_clt)"
   ]
  },
  {
   "cell_type": "code",
   "execution_count": 21,
   "metadata": {},
   "outputs": [
    {
     "name": "stdout",
     "output_type": "stream",
     "text": [
      "2022-03-05 12:32\n"
     ]
    }
   ],
   "source": [
    "print(te.end)"
   ]
  },
  {
   "cell_type": "code",
   "execution_count": 10,
   "metadata": {},
   "outputs": [
    {
     "name": "stdout",
     "output_type": "stream",
     "text": [
      "                         open      high       low     close    volume\n",
      "date                                                                 \n",
      "2022-03-05 12:31:00  39245.89  39252.68  39206.01  39227.67  37.42102\n",
      "2022-03-05 12:32:00  39227.67  39252.70  39221.05  39229.78  37.71002\n"
     ]
    }
   ],
   "source": [
    "te.synchronize(point)\n",
    "pds.draw(te,layer = 1)"
   ]
  }
 ],
 "metadata": {
  "kernelspec": {
   "display_name": "Python 3",
   "language": "python",
   "name": "python3"
  },
  "language_info": {
   "codemirror_mode": {
    "name": "ipython",
    "version": 3
   },
   "file_extension": ".py",
   "mimetype": "text/x-python",
   "name": "python",
   "nbconvert_exporter": "python",
   "pygments_lexer": "ipython3",
   "version": "3.12.3"
  }
 },
 "nbformat": 4,
 "nbformat_minor": 2
}
