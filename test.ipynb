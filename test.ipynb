{
 "cells": [
  {
   "cell_type": "code",
   "execution_count": 7,
   "metadata": {},
   "outputs": [],
   "source": [
    "#这里和readme代码一样，确定读过readme了吗，也可以去看demo\n",
    "\n",
    "%matplotlib qt5\n",
    "import importlib\n",
    "\n",
    "import classes.trend\n",
    "import classes.kline_client\n",
    "import classes.analyse_area\n",
    "import classes.timepoint\n",
    "import classes.plot_driver\n",
    "from classes.attached_elements import *\n",
    "\n",
    "importlib.reload(classes.trend)\n",
    "importlib.reload(classes.kline_client)\n",
    "importlib.reload(classes.analyse_area)\n",
    "importlib.reload(classes.timepoint)\n",
    "importlib.reload(classes.plot_driver)\n",
    "importlib.reload(classes.attached_elements)\n",
    "\n",
    "from classes.trend import Trend\n",
    "from classes.kline_client import Kline_client\n",
    "from classes.timepoint import Timepoint\n",
    "from classes.plot_driver import Plot_driver\n",
    "from classes.analyse_area import Analyse_area"
   ]
  },
  {
   "cell_type": "code",
   "execution_count": 5,
   "metadata": {},
   "outputs": [],
   "source": [
    "kline_clt = Kline_client()"
   ]
  },
  {
   "cell_type": "code",
   "execution_count": 11,
   "metadata": {},
   "outputs": [
    {
     "name": "stdout",
     "output_type": "stream",
     "text": [
      "analysing area synchronizing...\n"
     ]
    },
    {
     "name": "stderr",
     "output_type": "stream",
     "text": [
      "100%|██████████| 10080/10080.0 [00:12<00:00, 819.24it/s]\n",
      "c:\\Users\\ASUS\\anaconda3\\Lib\\site-packages\\mplfinance\\_arg_validators.py:84: UserWarning: \n",
      "\n",
      " ================================================================= \n",
      "\n",
      "   WARNING: YOU ARE PLOTTING SO MUCH DATA THAT IT MAY NOT BE\n",
      "            POSSIBLE TO SEE DETAILS (Candles, Ohlc-Bars, Etc.)\n",
      "   For more information see:\n",
      "   - https://github.com/matplotlib/mplfinance/wiki/Plotting-Too-Much-Data\n",
      "   \n",
      "   TO SILENCE THIS WARNING, set `type='line'` in `mpf.plot()`\n",
      "   OR set kwarg `warn_too_much_data=N` where N is an integer \n",
      "   LARGER than the number of data points you want to plot.\n",
      "\n",
      " ================================================================ \n",
      "  warnings.warn('\\n\\n ================================================================= '+\n"
     ]
    }
   ],
   "source": [
    "import random\n",
    "from datetime import datetime, timedelta\n",
    "\n",
    "def random_date(start, end):\n",
    "    \"\"\"\n",
    "    This function will return a random datetime between two datetime \n",
    "    objects.\n",
    "    \"\"\"\n",
    "    delta = end - start\n",
    "    int_delta = delta.days * 24 * 60 * 60 + delta.seconds\n",
    "    random_second = random.randrange(int_delta)\n",
    "    return start + timedelta(seconds=random_second)\n",
    "\n",
    "start_date = datetime(2019, 1, 1, 0, 0, 0)\n",
    "end_date = datetime(2023, 12, 31, 23, 59, 59)\n",
    "\n",
    "random_datetime = random_date(start_date, end_date)\n",
    "seven_days_earlier = random_datetime - timedelta(days=7)\n",
    "\n",
    "te = Analyse_area(Timepoint(seven_days_earlier.year,seven_days_earlier.month,seven_days_earlier.day,seven_days_earlier.hour,seven_days_earlier.minute),\n",
    "                  Timepoint(random_datetime.year,random_datetime.month,random_datetime.day,random_datetime.hour,random_datetime.minute),\n",
    "                  kline_clt)\n",
    "pds = Plot_driver(kline_clt, attaches = [Feb_line(minchange=0.01)])\n",
    "pds.draw(te,layer = 5)"
   ]
  },
  {
   "cell_type": "code",
   "execution_count": 54,
   "metadata": {},
   "outputs": [
    {
     "name": "stdout",
     "output_type": "stream",
     "text": [
      "analysing area synchronizing...\n"
     ]
    },
    {
     "name": "stderr",
     "output_type": "stream",
     "text": [
      "100%|██████████| 10080/10080.0 [00:11<00:00, 851.38it/s]\n"
     ]
    }
   ],
   "source": [
    "#在这里创建一个工作区对象，里面包含很多趋势，并对趋势进行合并\n",
    "# del te\n",
    "te = Analyse_area(Timepoint(2022,5,5,12,31),Timepoint(2022,5,12,12,31),kline_clt)"
   ]
  },
  {
   "cell_type": "code",
   "execution_count": 4,
   "metadata": {},
   "outputs": [
    {
     "name": "stdout",
     "output_type": "stream",
     "text": [
      "2022-03-05 12:31 to 2022-03-05 12:40, 39206.01 to 39371.15\n",
      "2022-03-05 12:40 to 2022-03-05 13:36, 39371.15 to 38889.75\n",
      "2022-03-05 13:36 to 2022-03-06 00:59, 38889.75 to 39693.87\n",
      "2022-03-06 00:59 to 2022-03-07 20:04, 39693.87 to 37155.0\n",
      "2022-03-07 20:04 to 2022-03-09 15:59, 37155.0 to 42584.01\n",
      "2022-03-09 15:59 to 2022-03-11 02:59, 42584.01 to 38223.6\n",
      "2022-03-11 02:59 to 2022-03-11 12:34, 38223.6 to 40236.26\n",
      "2022-03-11 12:34 to 2022-03-11 20:54, 40236.26 to 38308.83\n",
      "2022-03-11 20:54 to 2022-03-12 01:12, 38308.83 to 39327.99\n",
      "2022-03-12 01:12 to 2022-03-12 04:11, 39327.99 to 38931.8\n",
      "2022-03-12 04:11 to 2022-03-12 10:41, 38931.8 to 39284.46\n",
      "2022-03-12 10:41 to 2022-03-12 11:46, 39284.46 to 39012.0\n",
      "2022-03-12 11:46 to 2022-03-12 12:27, 39012.0 to 39155.26\n",
      "2022-03-12 12:27 to 2022-03-12 12:31, 39155.26 to 39102.64\n"
     ]
    }
   ],
   "source": [
    "for item in te.trendlist:\n",
    "    print(item)"
   ]
  },
  {
   "cell_type": "code",
   "execution_count": 27,
   "metadata": {},
   "outputs": [
    {
     "name": "stdout",
     "output_type": "stream",
     "text": [
      "analysing area synchronizing...\n"
     ]
    },
    {
     "name": "stderr",
     "output_type": "stream",
     "text": [
      "100%|██████████| 1/1.0 [00:00<00:00, 511.94it/s]"
     ]
    },
    {
     "name": "stdout",
     "output_type": "stream",
     "text": [
      "38337.03\n",
      "2022-03-11 02:59 to 2022-03-11 07:01, 38223.6 to 39075.87\n"
     ]
    },
    {
     "name": "stderr",
     "output_type": "stream",
     "text": [
      "\n"
     ]
    }
   ],
   "source": [
    "te.synchronize(Timepoint(2022,3,11,7,1))\n",
    "print(te.trendlist[-1].break_price)\n",
    "print(te.trendlist[-1])\n"
   ]
  },
  {
   "cell_type": "code",
   "execution_count": 55,
   "metadata": {},
   "outputs": [
    {
     "name": "stderr",
     "output_type": "stream",
     "text": [
      "c:\\Users\\ASUS\\anaconda3\\Lib\\site-packages\\mplfinance\\_arg_validators.py:84: UserWarning: \n",
      "\n",
      " ================================================================= \n",
      "\n",
      "   WARNING: YOU ARE PLOTTING SO MUCH DATA THAT IT MAY NOT BE\n",
      "            POSSIBLE TO SEE DETAILS (Candles, Ohlc-Bars, Etc.)\n",
      "   For more information see:\n",
      "   - https://github.com/matplotlib/mplfinance/wiki/Plotting-Too-Much-Data\n",
      "   \n",
      "   TO SILENCE THIS WARNING, set `type='line'` in `mpf.plot()`\n",
      "   OR set kwarg `warn_too_much_data=N` where N is an integer \n",
      "   LARGER than the number of data points you want to plot.\n",
      "\n",
      " ================================================================ \n",
      "  warnings.warn('\\n\\n ================================================================= '+\n"
     ]
    }
   ],
   "source": [
    "#创建绘图助理，可以把工作区中的趋势画出来，layer控制从最大的趋势往细处精细的层数\n",
    "pds = Plot_driver(kline_clt)\n",
    "pds.draw(te,layer = 3)"
   ]
  },
  {
   "cell_type": "code",
   "execution_count": 33,
   "metadata": {},
   "outputs": [
    {
     "name": "stdout",
     "output_type": "stream",
     "text": [
      "2022-03-11 02:59 to 2022-03-11 03:53, 38223.6 to 38858.42\n",
      "2022-03-11 03:53 to 2022-03-11 05:07, 38858.42 to 38337.03\n",
      "2022-03-11 05:07 to 2022-03-11 06:29, 38337.03 to 38986.0\n",
      "2022-03-11 06:29 to 2022-03-11 06:34, 38986.0 to 38769.2\n",
      "2022-03-11 06:34 to 2022-03-11 06:58, 38769.2 to 39000.0\n",
      "2022-03-11 06:58 to 2022-03-11 07:00, 39000.0 to 38913.26\n",
      "2022-03-11 07:00 to 2022-03-11 07:01, 38913.26 to 39075.87\n",
      "2022-03-11 07:01 to 2022-03-11 07:02, 38956.47 to 39091.19\n",
      "2022-03-11 07:02 to 2022-03-11 07:03, 39002.14 to 39117.75\n",
      "2022-03-11 07:03 to 2022-03-11 07:04, 39030.28 to 39178.37\n",
      "2022-03-11 07:04 to 2022-03-11 07:05, 39093.11 to 39216.82\n",
      "2022-03-11 07:05 to 2022-03-11 07:06, 39216.82 to 39134.11\n",
      "2022-03-11 07:06 to 2022-03-11 07:22, 39217.6 to 38979.25\n",
      "2022-03-11 07:22 to 2022-03-11 07:26, 38979.25 to 39251.02\n",
      "2022-03-11 07:26 to 2022-03-11 07:39, 39251.02 to 39110.7\n",
      "2022-03-11 07:39 to 2022-03-11 07:43, 39110.7 to 39348.87\n",
      "2022-03-11 07:43 to 2022-03-11 11:23, 39348.87 to 38806.86\n",
      "2022-03-11 11:23 to 2022-03-11 11:24, 38806.86 to 39400.0\n",
      "2022-03-11 11:24 to 2022-03-11 11:25, 39400.0 to 39093.24\n",
      "2022-03-11 11:25 to 2022-03-11 12:34, 39093.24 to 40236.26\n",
      "38592.39\n"
     ]
    }
   ],
   "source": [
    "for item in te.trendlist[-8].include_list:\n",
    "    print(item)\n",
    "print(te.trendlist[-8].include_list[2].break_price)"
   ]
  },
  {
   "cell_type": "code",
   "execution_count": 72,
   "metadata": {},
   "outputs": [
    {
     "name": "stdout",
     "output_type": "stream",
     "text": [
      "analysing area synchronizing...\n"
     ]
    },
    {
     "name": "stderr",
     "output_type": "stream",
     "text": [
      "100%|██████████| 500/500.0 [00:00<00:00, 814.53it/s]\n"
     ]
    }
   ],
   "source": [
    "begin = Timepoint(2022,3,8,18,51)\n",
    "point = Timepoint(2022,3,9,3,11)\n",
    "pds = Plot_driver(kline_clt)\n",
    "te = Analyse_area(begin,point,kline_clt)"
   ]
  },
  {
   "cell_type": "code",
   "execution_count": 75,
   "metadata": {},
   "outputs": [
    {
     "name": "stdout",
     "output_type": "stream",
     "text": [
      "analysing area synchronizing...\n"
     ]
    },
    {
     "name": "stderr",
     "output_type": "stream",
     "text": [
      "100%|██████████| 20/20.0 [00:00<00:00, 731.51it/s]\n"
     ]
    }
   ],
   "source": [
    "pds.draw(te,layer = 4)\n",
    "point.next(20)\n",
    "te.synchronize(point)"
   ]
  },
  {
   "cell_type": "code",
   "execution_count": 10,
   "metadata": {},
   "outputs": [
    {
     "name": "stdout",
     "output_type": "stream",
     "text": [
      "                         open      high       low     close    volume\n",
      "date                                                                 \n",
      "2022-03-05 12:31:00  39245.89  39252.68  39206.01  39227.67  37.42102\n",
      "2022-03-05 12:32:00  39227.67  39252.70  39221.05  39229.78  37.71002\n"
     ]
    }
   ],
   "source": [
    "te.synchronize(point)\n",
    "pds.draw(te,layer = 1)"
   ]
  },
  {
   "cell_type": "code",
   "execution_count": 10,
   "metadata": {},
   "outputs": [
    {
     "data": {
      "text/plain": [
       "60.0"
      ]
     },
     "execution_count": 10,
     "metadata": {},
     "output_type": "execute_result"
    }
   ],
   "source": [
    "(Timepoint(2022,3,5,12,32).get_pdtimepoint()-Timepoint(2022,3,5,12,31).get_pdtimepoint()).total_seconds()"
   ]
  },
  {
   "cell_type": "code",
   "execution_count": null,
   "metadata": {},
   "outputs": [],
   "source": []
  }
 ],
 "metadata": {
  "kernelspec": {
   "display_name": "Python 3",
   "language": "python",
   "name": "python3"
  },
  "language_info": {
   "codemirror_mode": {
    "name": "ipython",
    "version": 3
   },
   "file_extension": ".py",
   "mimetype": "text/x-python",
   "name": "python",
   "nbconvert_exporter": "python",
   "pygments_lexer": "ipython3",
   "version": "3.12.3"
  }
 },
 "nbformat": 4,
 "nbformat_minor": 2
}
