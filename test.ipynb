{
 "cells": [
  {
   "cell_type": "code",
   "execution_count": 108,
   "metadata": {},
   "outputs": [],
   "source": [
    "#这里和readme代码一样，确定读过readme了吗，也可以去看demo\n",
    "\n",
    "%matplotlib qt5\n",
    "import importlib\n",
    "\n",
    "import classes.trend\n",
    "import classes.kline_client\n",
    "import classes.analyse_area\n",
    "import classes.timepoint\n",
    "import classes.plot_driver\n",
    "\n",
    "importlib.reload(classes.trend)\n",
    "importlib.reload(classes.kline_client)\n",
    "importlib.reload(classes.analyse_area)\n",
    "importlib.reload(classes.timepoint)\n",
    "importlib.reload(classes.plot_driver)\n",
    "\n",
    "from classes.trend import Trend\n",
    "from classes.kline_client import Kline_client\n",
    "from classes.timepoint import Timepoint\n",
    "from classes.plot_driver import Plot_driver\n",
    "from classes.analyse_area import Analyse_area"
   ]
  },
  {
   "cell_type": "code",
   "execution_count": 6,
   "metadata": {},
   "outputs": [],
   "source": [
    "kline_clt = Kline_client()"
   ]
  },
  {
   "cell_type": "code",
   "execution_count": 112,
   "metadata": {},
   "outputs": [
    {
     "name": "stdout",
     "output_type": "stream",
     "text": [
      "analysing area synchronizing...\n"
     ]
    },
    {
     "name": "stderr",
     "output_type": "stream",
     "text": [
      "/Users/yihanyu/Documents/finance/TrendAnalyse/classes/trend.py:33: RuntimeWarning: divide by zero encountered in scalar divide\n",
      "  if ((self.break_price - self._begin_price)/(self._end_price - self._begin_price) < self.max_back\n",
      "100%|██████████| 10080/10080.0 [00:08<00:00, 1141.05it/s]\n"
     ]
    }
   ],
   "source": [
    "#在这里创建一个工作区对象，里面包含很多趋势，并对趋势进行合并\n",
    "# del te\n",
    "te = Analyse_area(Timepoint(2023,4,5,12,31),Timepoint(2023,4,12,12,31),kline_clt)"
   ]
  },
  {
   "cell_type": "code",
   "execution_count": 56,
   "metadata": {},
   "outputs": [
    {
     "name": "stdout",
     "output_type": "stream",
     "text": [
      "2023-04-05 12:31 to 2023-04-05 12:34, 28560.0 to 28312.5\n",
      "2023-04-05 12:34 to 2023-04-05 12:48, 28312.5 to 28750.0\n",
      "2023-04-05 12:48 to 2023-04-06 10:37, 28750.0 to 27711.0\n",
      "2023-04-06 10:37 to 2023-04-06 15:41, 27711.0 to 28181.05\n",
      "2023-04-06 15:41 to 2023-04-07 07:56, 28181.05 to 27766.94\n",
      "2023-04-07 07:56 to 2023-04-07 10:49, 27766.94 to 27961.67\n",
      "2023-04-07 10:49 to 2023-04-07 11:50, 27961.67 to 27800.0\n",
      "2023-04-07 11:50 to 2023-04-07 12:31, 27800.0 to 27950.0\n"
     ]
    }
   ],
   "source": [
    "for item in te.trendlist:\n",
    "    print(item)"
   ]
  },
  {
   "cell_type": "code",
   "execution_count": 59,
   "metadata": {},
   "outputs": [
    {
     "name": "stdout",
     "output_type": "stream",
     "text": [
      "27893.5\n"
     ]
    }
   ],
   "source": [
    "print(te.trendlist[5].break_price)"
   ]
  },
  {
   "cell_type": "code",
   "execution_count": 113,
   "metadata": {},
   "outputs": [
    {
     "name": "stderr",
     "output_type": "stream",
     "text": [
      "/opt/anaconda3/envs/TrendAnalyse/lib/python3.12/site-packages/mplfinance/_arg_validators.py:84: UserWarning: \n",
      "\n",
      " ================================================================= \n",
      "\n",
      "   WARNING: YOU ARE PLOTTING SO MUCH DATA THAT IT MAY NOT BE\n",
      "            POSSIBLE TO SEE DETAILS (Candles, Ohlc-Bars, Etc.)\n",
      "   For more information see:\n",
      "   - https://github.com/matplotlib/mplfinance/wiki/Plotting-Too-Much-Data\n",
      "   \n",
      "   TO SILENCE THIS WARNING, set `type='line'` in `mpf.plot()`\n",
      "   OR set kwarg `warn_too_much_data=N` where N is an integer \n",
      "   LARGER than the number of data points you want to plot.\n",
      "\n",
      " ================================================================ \n",
      "  warnings.warn('\\n\\n ================================================================= '+\n"
     ]
    }
   ],
   "source": [
    "#创建绘图助理，可以把工作区中的趋势画出来，layer控制从最大的趋势往细处精细的层数\n",
    "pds = Plot_driver(kline_clt)\n",
    "pds.draw(te,layer = 5)"
   ]
  },
  {
   "cell_type": "code",
   "execution_count": 85,
   "metadata": {},
   "outputs": [
    {
     "name": "stdout",
     "output_type": "stream",
     "text": [
      "analysing area synchronizing...\n"
     ]
    },
    {
     "name": "stderr",
     "output_type": "stream",
     "text": [
      "\n",
      "\n",
      "\n",
      "\n",
      "\n",
      "100%|██████████| 1/1.0 [00:00<00:00, 412.05it/s]\n"
     ]
    }
   ],
   "source": [
    "begin = Timepoint(2023,4,5,12,31)\n",
    "point = begin.get_after(1)\n",
    "pds = Plot_driver(kline_clt)\n",
    "te = Analyse_area(begin,point,kline_clt)"
   ]
  },
  {
   "cell_type": "code",
   "execution_count": 102,
   "metadata": {},
   "outputs": [
    {
     "name": "stdout",
     "output_type": "stream",
     "text": [
      "analysing area synchronizing...\n"
     ]
    },
    {
     "name": "stderr",
     "output_type": "stream",
     "text": [
      "100%|██████████| 1/1.0 [00:00<00:00, 910.62it/s]\n"
     ]
    }
   ],
   "source": [
    "\n",
    "pds.draw(te,layer = 3)\n",
    "point.next()\n",
    "te.synchronize(point)"
   ]
  },
  {
   "cell_type": "code",
   "execution_count": 10,
   "metadata": {},
   "outputs": [
    {
     "name": "stdout",
     "output_type": "stream",
     "text": [
      "                         open      high       low     close    volume\n",
      "date                                                                 \n",
      "2022-03-05 12:31:00  39245.89  39252.68  39206.01  39227.67  37.42102\n",
      "2022-03-05 12:32:00  39227.67  39252.70  39221.05  39229.78  37.71002\n"
     ]
    }
   ],
   "source": [
    "te.synchronize(point)\n",
    "pds.draw(te,layer = 1)"
   ]
  },
  {
   "cell_type": "code",
   "execution_count": 10,
   "metadata": {},
   "outputs": [
    {
     "data": {
      "text/plain": [
       "60.0"
      ]
     },
     "execution_count": 10,
     "metadata": {},
     "output_type": "execute_result"
    }
   ],
   "source": [
    "(Timepoint(2022,3,5,12,32).get_pdtimepoint()-Timepoint(2022,3,5,12,31).get_pdtimepoint()).total_seconds()"
   ]
  },
  {
   "cell_type": "code",
   "execution_count": null,
   "metadata": {},
   "outputs": [],
   "source": []
  }
 ],
 "metadata": {
  "kernelspec": {
   "display_name": "Python 3",
   "language": "python",
   "name": "python3"
  },
  "language_info": {
   "codemirror_mode": {
    "name": "ipython",
    "version": 3
   },
   "file_extension": ".py",
   "mimetype": "text/x-python",
   "name": "python",
   "nbconvert_exporter": "python",
   "pygments_lexer": "ipython3",
   "version": "3.12.3"
  }
 },
 "nbformat": 4,
 "nbformat_minor": 2
}
